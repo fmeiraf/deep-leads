{
  "cells": [
    {
      "cell_type": "markdown",
      "metadata": {
        "vscode": {
          "languageId": "raw"
        }
      },
      "source": [
        "# Synthetic Academic Query Generation with OpenAlex\n",
        "\n",
        "This notebook demonstrates how to generate diverse academic queries using the OpenAlex API. The system creates realistic queries that can be used for testing lead generation systems.\n",
        "\n",
        "## Features\n",
        "\n",
        "- **Diverse Query Generation**: Uses OpenAlex concept hierarchy and institution data\n",
        "- **Configurable Parameters**: Target number, batch size, concept levels, etc.\n",
        "- **Checkpointing**: Saves progress and can resume from interruptions\n",
        "- **Batching**: Processes queries in batches for efficiency\n",
        "- **Results with Names and Institutions**: Generates structured lead data\n",
        "\n",
        "## Quick Start\n"
      ]
    },
    {
      "cell_type": "code",
      "execution_count": 1,
      "metadata": {},
      "outputs": [],
      "source": [
        "import os\n",
        "import sys\n",
        "import asyncio\n",
        "from pathlib import Path\n",
        "\n",
        "# Add the src directory to the path\n",
        "sys.path.append(\"../src\")\n",
        "\n",
        "from src.evals.generate_synthetic_questions import (\n",
        "    GenerationConfig,\n",
        "    SyntheticQueryGenerator,\n",
        ")\n",
        "from rich import print as rprint\n",
        "import json\n",
        "import pandas as pd"
      ]
    },
    {
      "cell_type": "markdown",
      "metadata": {
        "vscode": {
          "languageId": "raw"
        }
      },
      "source": [
        "## Optional: Clean Up Old Checkpoints\n",
        "\n",
        "If you're getting validation errors from old checkpoints, you can clean them up:\n"
      ]
    },
    {
      "cell_type": "code",
      "execution_count": 2,
      "metadata": {},
      "outputs": [
        {
          "name": "stdout",
          "output_type": "stream",
          "text": [
            "Cleaned up old checkpoints\n"
          ]
        }
      ],
      "source": [
        "# Optional: Clean up old checkpoints if you're getting validation errors\n",
        "import shutil\n",
        "from pathlib import Path\n",
        "\n",
        "checkpoint_path = Path(\"checkpoints/demo_queries\")\n",
        "if checkpoint_path.exists():\n",
        "    shutil.rmtree(checkpoint_path)\n",
        "    print(\"Cleaned up old checkpoints\")\n",
        "else:\n",
        "    print(\"No old checkpoints to clean\")"
      ]
    },
    {
      "cell_type": "markdown",
      "metadata": {
        "vscode": {
          "languageId": "raw"
        }
      },
      "source": [
        "## Configuration\n",
        "\n",
        "First, let's set up the configuration for our query generation. You can adjust these parameters based on your needs.\n"
      ]
    },
    {
      "cell_type": "code",
      "execution_count": 3,
      "metadata": {},
      "outputs": [
        {
          "name": "stdout",
          "output_type": "stream",
          "text": [
            "Configuration:\n",
            "Target queries: 10\n",
            "Batch size: 10\n",
            "Max results per query: 5\n",
            "Output file: demo_synthetic_queries.json\n"
          ]
        }
      ],
      "source": [
        "# Configure email for OpenAlex API (recommended)\n",
        "# You can set this as an environment variable: OPENALEX_EMAIL\n",
        "# os.environ['OPENALEX_EMAIL'] = 'your.email@example.com'\n",
        "\n",
        "# Create configuration\n",
        "config = GenerationConfig(\n",
        "    target_queries=10,  # Start small for testing\n",
        "    batch_size=10,\n",
        "    max_results_per_query=5,\n",
        "    checkpoint_dir=\"checkpoints/demo_queries\",\n",
        "    output_file=\"demo_synthetic_queries.json\",\n",
        ")\n",
        "\n",
        "print(\"Configuration:\")\n",
        "print(f\"Target queries: {config.target_queries}\")\n",
        "print(f\"Batch size: {config.batch_size}\")\n",
        "print(f\"Max results per query: {config.max_results_per_query}\")\n",
        "print(f\"Output file: {config.output_file}\")"
      ]
    },
    {
      "cell_type": "markdown",
      "metadata": {
        "vscode": {
          "languageId": "raw"
        }
      },
      "source": [
        "## Generate Synthetic Queries\n",
        "\n",
        "Now let's run the query generation. This will:\n",
        "\n",
        "1. Fetch concepts and institutions from OpenAlex\n",
        "2. Generate diverse query variations\n",
        "3. Execute queries against OpenAlex\n",
        "4. Save results with checkpointing\n",
        "\n",
        "**Note**: This may take several minutes depending on your target number of queries.\n"
      ]
    },
    {
      "cell_type": "code",
      "execution_count": null,
      "metadata": {},
      "outputs": [],
      "source": [
        "# Create the generator\n",
        "generator = SyntheticQueryGenerator(config)\n",
        "\n",
        "# Run the generation\n",
        "await generator.gather_data()\n",
        "\n",
        "print(generator.topics_per_institution)"
      ]
    },
    {
      "cell_type": "code",
      "execution_count": 4,
      "metadata": {},
      "outputs": [
        {
          "data": {
            "text/html": [
              "<pre style=\"white-space:pre;overflow-x:auto;line-height:normal;font-family:Menlo,'DejaVu Sans Mono',consolas,'Courier New',monospace\"><span style=\"color: #008080; text-decoration-color: #008080\">Starting synthetic query generation with checkpointing...</span>\n",
              "</pre>\n"
            ],
            "text/plain": [
              "\u001b[36mStarting synthetic query generation with checkpointing\u001b[0m\u001b[36m...\u001b[0m\n"
            ]
          },
          "metadata": {},
          "output_type": "display_data"
        },
        {
          "data": {
            "text/html": [
              "<pre style=\"white-space:pre;overflow-x:auto;line-height:normal;font-family:Menlo,'DejaVu Sans Mono',consolas,'Courier New',monospace\"><span style=\"color: #c0c0c0; text-decoration-color: #c0c0c0\">Initializing main OpenAlex query and topic maps...</span>\n",
              "</pre>\n"
            ],
            "text/plain": [
              "\u001b[37mInitializing main OpenAlex query and topic maps\u001b[0m\u001b[37m...\u001b[0m\n"
            ]
          },
          "metadata": {},
          "output_type": "display_data"
        },
        {
          "data": {
            "text/html": [
              "<pre style=\"white-space:pre;overflow-x:auto;line-height:normal;font-family:Menlo,'DejaVu Sans Mono',consolas,'Courier New',monospace\"><span style=\"color: #008000; text-decoration-color: #008000\">Starting building all the queries...</span>\n",
              "</pre>\n"
            ],
            "text/plain": [
              "\u001b[32mStarting building all the queries\u001b[0m\u001b[32m...\u001b[0m\n"
            ]
          },
          "metadata": {},
          "output_type": "display_data"
        },
        {
          "data": {
            "text/html": [
              "<pre style=\"white-space:pre;overflow-x:auto;line-height:normal;font-family:Menlo,'DejaVu Sans Mono',consolas,'Courier New',monospace\"><span style=\"color: #008080; text-decoration-color: #008080\">Processing city-based searches...</span>\n",
              "</pre>\n"
            ],
            "text/plain": [
              "\u001b[36mProcessing city-based searches\u001b[0m\u001b[36m...\u001b[0m\n"
            ]
          },
          "metadata": {},
          "output_type": "display_data"
        },
        {
          "name": "stderr",
          "output_type": "stream",
          "text": [
            "City-based searches: 100%|██████████| 4/4 [00:58<00:00, 14.55s/it]\n"
          ]
        },
        {
          "data": {
            "text/html": [
              "<pre style=\"white-space:pre;overflow-x:auto;line-height:normal;font-family:Menlo,'DejaVu Sans Mono',consolas,'Courier New',monospace\"><span style=\"color: #008080; text-decoration-color: #008080\">Processing country-based searches...</span>\n",
              "</pre>\n"
            ],
            "text/plain": [
              "\u001b[36mProcessing country-based searches\u001b[0m\u001b[36m...\u001b[0m\n"
            ]
          },
          "metadata": {},
          "output_type": "display_data"
        },
        {
          "name": "stderr",
          "output_type": "stream",
          "text": [
            "Country-based searches: 100%|██████████| 1/1 [00:00<00:00,  1.87it/s]\n"
          ]
        },
        {
          "data": {
            "text/html": [
              "<pre style=\"white-space:pre;overflow-x:auto;line-height:normal;font-family:Menlo,'DejaVu Sans Mono',consolas,'Courier New',monospace\"><span style=\"color: #008080; text-decoration-color: #008080\">Processing institution-based searches...</span>\n",
              "</pre>\n"
            ],
            "text/plain": [
              "\u001b[36mProcessing institution-based searches\u001b[0m\u001b[36m...\u001b[0m\n"
            ]
          },
          "metadata": {},
          "output_type": "display_data"
        },
        {
          "name": "stderr",
          "output_type": "stream",
          "text": [
            "Institution-based searches: 100%|██████████| 5/5 [00:02<00:00,  2.18it/s]\n"
          ]
        },
        {
          "data": {
            "text/html": [
              "<pre style=\"white-space:pre;overflow-x:auto;line-height:normal;font-family:Menlo,'DejaVu Sans Mono',consolas,'Courier New',monospace\"><span style=\"color: #008000; text-decoration-color: #008000\">Cached </span><span style=\"color: #008000; text-decoration-color: #008000; font-weight: bold\">5</span><span style=\"color: #008000; text-decoration-color: #008000\"> institution-based searches,</span><span style=\"color: #008000; text-decoration-color: #008000; font-weight: bold\">4</span><span style=\"color: #008000; text-decoration-color: #008000\"> city-based searches,</span><span style=\"color: #008000; text-decoration-color: #008000; font-weight: bold\">1</span><span style=\"color: #008000; text-decoration-color: #008000\"> country-based searches</span>\n",
              "</pre>\n"
            ],
            "text/plain": [
              "\u001b[32mCached \u001b[0m\u001b[1;32m5\u001b[0m\u001b[32m institution-based searches,\u001b[0m\u001b[1;32m4\u001b[0m\u001b[32m city-based searches,\u001b[0m\u001b[1;32m1\u001b[0m\u001b[32m country-based searches\u001b[0m\n"
            ]
          },
          "metadata": {},
          "output_type": "display_data"
        },
        {
          "data": {
            "text/html": [
              "<pre style=\"white-space:pre;overflow-x:auto;line-height:normal;font-family:Menlo,'DejaVu Sans Mono',consolas,'Courier New',monospace\"><span style=\"color: #008000; text-decoration-color: #008000\">Saved gathered data to checkpoints/demo_queries/gathered_data.json</span>\n",
              "</pre>\n"
            ],
            "text/plain": [
              "\u001b[32mSaved gathered data to checkpoints/demo_queries/gathered_data.json\u001b[0m\n"
            ]
          },
          "metadata": {},
          "output_type": "display_data"
        },
        {
          "data": {
            "text/html": [
              "<pre style=\"white-space:pre;overflow-x:auto;line-height:normal;font-family:Menlo,'DejaVu Sans Mono',consolas,'Courier New',monospace\"><span style=\"color: #008080; text-decoration-color: #008080\">Processing </span><span style=\"color: #008080; text-decoration-color: #008080; font-weight: bold\">10</span><span style=\"color: #008080; text-decoration-color: #008080\"> remaining searches in </span><span style=\"color: #008080; text-decoration-color: #008080; font-weight: bold\">1</span><span style=\"color: #008080; text-decoration-color: #008080\"> batches</span>\n",
              "</pre>\n"
            ],
            "text/plain": [
              "\u001b[36mProcessing \u001b[0m\u001b[1;36m10\u001b[0m\u001b[36m remaining searches in \u001b[0m\u001b[1;36m1\u001b[0m\u001b[36m batches\u001b[0m\n"
            ]
          },
          "metadata": {},
          "output_type": "display_data"
        },
        {
          "data": {
            "text/html": [
              "<pre style=\"white-space:pre;overflow-x:auto;line-height:normal;font-family:Menlo,'DejaVu Sans Mono',consolas,'Courier New',monospace\"><span style=\"color: #008080; text-decoration-color: #008080\">Processing batch </span><span style=\"color: #008080; text-decoration-color: #008080; font-weight: bold\">1</span><span style=\"color: #008080; text-decoration-color: #008080\">/</span><span style=\"color: #008080; text-decoration-color: #008080; font-weight: bold\">1</span><span style=\"color: #008080; text-decoration-color: #008080\"> </span><span style=\"color: #008080; text-decoration-color: #008080; font-weight: bold\">(</span><span style=\"color: #008080; text-decoration-color: #008080; font-weight: bold\">10</span><span style=\"color: #008080; text-decoration-color: #008080\"> searches</span><span style=\"color: #008080; text-decoration-color: #008080; font-weight: bold\">)</span>\n",
              "</pre>\n"
            ],
            "text/plain": [
              "\u001b[36mProcessing batch \u001b[0m\u001b[1;36m1\u001b[0m\u001b[36m/\u001b[0m\u001b[1;36m1\u001b[0m\u001b[36m \u001b[0m\u001b[1;36m(\u001b[0m\u001b[1;36m10\u001b[0m\u001b[36m searches\u001b[0m\u001b[1;36m)\u001b[0m\n"
            ]
          },
          "metadata": {},
          "output_type": "display_data"
        },
        {
          "data": {
            "text/html": [
              "<pre style=\"white-space:pre;overflow-x:auto;line-height:normal;font-family:Menlo,'DejaVu Sans Mono',consolas,'Courier New',monospace\"><span style=\"color: #008000; text-decoration-color: #008000\">Saved checkpoint for batch </span><span style=\"color: #008000; text-decoration-color: #008000; font-weight: bold\">0</span><span style=\"color: #008000; text-decoration-color: #008000\"> to checkpoints/demo_queries/checkpoint_batch_0.json</span>\n",
              "</pre>\n"
            ],
            "text/plain": [
              "\u001b[32mSaved checkpoint for batch \u001b[0m\u001b[1;32m0\u001b[0m\u001b[32m to checkpoints/demo_queries/checkpoint_batch_0.json\u001b[0m\n"
            ]
          },
          "metadata": {},
          "output_type": "display_data"
        },
        {
          "data": {
            "text/html": [
              "<pre style=\"white-space:pre;overflow-x:auto;line-height:normal;font-family:Menlo,'DejaVu Sans Mono',consolas,'Courier New',monospace\"><span style=\"color: #008000; text-decoration-color: #008000\">Completed batch </span><span style=\"color: #008000; text-decoration-color: #008000; font-weight: bold\">1</span><span style=\"color: #008000; text-decoration-color: #008000\">, total results: </span><span style=\"color: #008000; text-decoration-color: #008000; font-weight: bold\">10</span>\n",
              "</pre>\n"
            ],
            "text/plain": [
              "\u001b[32mCompleted batch \u001b[0m\u001b[1;32m1\u001b[0m\u001b[32m, total results: \u001b[0m\u001b[1;32m10\u001b[0m\n"
            ]
          },
          "metadata": {},
          "output_type": "display_data"
        },
        {
          "data": {
            "text/html": [
              "<pre style=\"white-space:pre;overflow-x:auto;line-height:normal;font-family:Menlo,'DejaVu Sans Mono',consolas,'Courier New',monospace\"><span style=\"color: #008000; text-decoration-color: #008000\">Generated </span><span style=\"color: #008000; text-decoration-color: #008000; font-weight: bold\">10</span><span style=\"color: #008000; text-decoration-color: #008000\"> synthetic queries and saved to checkpoints/demo_synthetic_queries.json</span>\n",
              "</pre>\n"
            ],
            "text/plain": [
              "\u001b[32mGenerated \u001b[0m\u001b[1;32m10\u001b[0m\u001b[32m synthetic queries and saved to checkpoints/demo_synthetic_queries.json\u001b[0m\n"
            ]
          },
          "metadata": {},
          "output_type": "display_data"
        }
      ],
      "source": [
        "# Create the generator\n",
        "generator = SyntheticQueryGenerator(config)\n",
        "\n",
        "# Run the generation\n",
        "results = await generator.generate_queries()"
      ]
    },
    {
      "cell_type": "code",
      "execution_count": null,
      "metadata": {},
      "outputs": [],
      "source": []
    },
    {
      "cell_type": "code",
      "execution_count": null,
      "metadata": {},
      "outputs": [],
      "source": []
    },
    {
      "cell_type": "code",
      "execution_count": null,
      "metadata": {},
      "outputs": [],
      "source": []
    },
    {
      "cell_type": "code",
      "execution_count": null,
      "metadata": {},
      "outputs": [],
      "source": [
        "import pyalex\n",
        "from itertools import chain\n",
        "from rich import print as rprint\n",
        "\n",
        "works = (\n",
        "    pyalex.Works()\n",
        "    .filter(publication_year=\">2023\")\n",
        "    .filter(authorships={\"institutions.country_code\": \"US|GB|CA|AU|BR\"})\n",
        "    .filter(authorships={\"institutions.id\": \"https://openalex.org/I1288198617\"})\n",
        "    .filter(topics={\"id\": \"https://openalex.org/T10556\"})\n",
        "    .get()\n",
        ")\n",
        "\n",
        "rprint(works)"
      ]
    },
    {
      "cell_type": "code",
      "execution_count": null,
      "metadata": {},
      "outputs": [],
      "source": [
        "import pyalex\n",
        "from itertools import chain\n",
        "from rich import print as rprint\n",
        "\n",
        "rprint(pyalex.Institutions()[\"I12315562\"])"
      ]
    },
    {
      "cell_type": "code",
      "execution_count": null,
      "metadata": {},
      "outputs": [],
      "source": []
    },
    {
      "cell_type": "code",
      "execution_count": null,
      "metadata": {},
      "outputs": [],
      "source": []
    },
    {
      "cell_type": "code",
      "execution_count": null,
      "metadata": {},
      "outputs": [],
      "source": []
    },
    {
      "cell_type": "code",
      "execution_count": null,
      "metadata": {},
      "outputs": [],
      "source": []
    },
    {
      "cell_type": "code",
      "execution_count": null,
      "metadata": {},
      "outputs": [],
      "source": []
    },
    {
      "cell_type": "code",
      "execution_count": null,
      "metadata": {},
      "outputs": [],
      "source": []
    },
    {
      "cell_type": "code",
      "execution_count": null,
      "metadata": {},
      "outputs": [],
      "source": []
    }
  ],
  "metadata": {
    "kernelspec": {
      "display_name": ".venv",
      "language": "python",
      "name": "python3"
    },
    "language_info": {
      "codemirror_mode": {
        "name": "ipython",
        "version": 3
      },
      "file_extension": ".py",
      "mimetype": "text/x-python",
      "name": "python",
      "nbconvert_exporter": "python",
      "pygments_lexer": "ipython3",
      "version": "3.11.11"
    }
  },
  "nbformat": 4,
  "nbformat_minor": 2
}
