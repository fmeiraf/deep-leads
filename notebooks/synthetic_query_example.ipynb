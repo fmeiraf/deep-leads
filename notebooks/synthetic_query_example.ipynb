{
  "cells": [
    {
      "cell_type": "markdown",
      "metadata": {
        "vscode": {
          "languageId": "raw"
        }
      },
      "source": [
        "# Synthetic Academic Query Generation with OpenAlex\n",
        "\n",
        "This notebook demonstrates how to generate diverse academic queries using the OpenAlex API. The system creates realistic queries that can be used for testing lead generation systems.\n",
        "\n",
        "## Features\n",
        "\n",
        "- **Diverse Query Generation**: Uses OpenAlex concept hierarchy and institution data\n",
        "- **Configurable Parameters**: Target number, batch size, concept levels, etc.\n",
        "- **Checkpointing**: Saves progress and can resume from interruptions\n",
        "- **Batching**: Processes queries in batches for efficiency\n",
        "- **Results with Names and Institutions**: Generates structured lead data\n",
        "\n",
        "## Quick Start\n"
      ]
    },
    {
      "cell_type": "code",
      "execution_count": 1,
      "metadata": {},
      "outputs": [],
      "source": [
        "import os\n",
        "import sys\n",
        "import asyncio\n",
        "from pathlib import Path\n",
        "\n",
        "# Add the src directory to the path\n",
        "sys.path.append(\"../src\")\n",
        "\n",
        "from src.evals.generate_synthetic_questions import (\n",
        "    GenerationConfig,\n",
        "    SyntheticQueryGenerator,\n",
        ")\n",
        "from rich import print as rprint\n",
        "import json\n",
        "import pandas as pd"
      ]
    },
    {
      "cell_type": "markdown",
      "metadata": {
        "vscode": {
          "languageId": "raw"
        }
      },
      "source": [
        "## Optional: Clean Up Old Checkpoints\n",
        "\n",
        "If you're getting validation errors from old checkpoints, you can clean them up:\n"
      ]
    },
    {
      "cell_type": "code",
      "execution_count": null,
      "metadata": {},
      "outputs": [],
      "source": [
        "# Optional: Clean up old checkpoints if you're getting validation errors\n",
        "import shutil\n",
        "from pathlib import Path\n",
        "\n",
        "checkpoint_path = Path(\"checkpoints/demo_queries\")\n",
        "if checkpoint_path.exists():\n",
        "    shutil.rmtree(checkpoint_path)\n",
        "    print(\"Cleaned up old checkpoints\")\n",
        "else:\n",
        "    print(\"No old checkpoints to clean\")"
      ]
    },
    {
      "cell_type": "markdown",
      "metadata": {
        "vscode": {
          "languageId": "raw"
        }
      },
      "source": [
        "## Configuration\n",
        "\n",
        "First, let's set up the configuration for our query generation. You can adjust these parameters based on your needs.\n"
      ]
    },
    {
      "cell_type": "code",
      "execution_count": null,
      "metadata": {},
      "outputs": [],
      "source": [
        "# Configure email for OpenAlex API (recommended)\n",
        "# You can set this as an environment variable: OPENALEX_EMAIL\n",
        "# os.environ['OPENALEX_EMAIL'] = 'your.email@example.com'\n",
        "\n",
        "# Create configuration\n",
        "config = GenerationConfig(\n",
        "    target_queries=300,  # Start small for testing\n",
        "    batch_size=100,\n",
        "    max_results_per_query=5,\n",
        "    checkpoint_dir=\"checkpoints/demo_queries\",\n",
        "    output_file=\"eval_leads_v1.json\",\n",
        "    parallel_batch_size=6,\n",
        ")\n",
        "\n",
        "print(\"Configuration:\")\n",
        "print(f\"Target queries: {config.target_queries}\")\n",
        "print(f\"Batch size: {config.batch_size}\")\n",
        "print(f\"Max results per query: {config.max_results_per_query}\")\n",
        "print(f\"Output file: {config.output_file}\")"
      ]
    },
    {
      "cell_type": "markdown",
      "metadata": {
        "vscode": {
          "languageId": "raw"
        }
      },
      "source": [
        "## Generate Synthetic Queries\n",
        "\n",
        "Now let's run the query generation. This will:\n",
        "\n",
        "1. Fetch concepts and institutions from OpenAlex\n",
        "2. Generate diverse query variations\n",
        "3. Execute queries against OpenAlex\n",
        "4. Save results with checkpointing\n",
        "\n",
        "**Note**: This may take several minutes depending on your target number of queries.\n"
      ]
    },
    {
      "cell_type": "code",
      "execution_count": null,
      "metadata": {},
      "outputs": [],
      "source": [
        "# Create the generator\n",
        "generator = SyntheticQueryGenerator(config)\n",
        "\n",
        "# Run the generation\n",
        "await generator.gather_data()\n",
        "\n",
        "print(generator.topics_per_institution)"
      ]
    },
    {
      "cell_type": "code",
      "execution_count": null,
      "metadata": {},
      "outputs": [],
      "source": [
        "# Create the generator\n",
        "generator = SyntheticQueryGenerator(config)\n",
        "\n",
        "# Run the generation\n",
        "results = await generator.generate_queries()"
      ]
    },
    {
      "cell_type": "code",
      "execution_count": null,
      "metadata": {},
      "outputs": [],
      "source": []
    },
    {
      "cell_type": "code",
      "execution_count": null,
      "metadata": {},
      "outputs": [],
      "source": []
    },
    {
      "cell_type": "code",
      "execution_count": null,
      "metadata": {},
      "outputs": [],
      "source": []
    },
    {
      "cell_type": "code",
      "execution_count": null,
      "metadata": {},
      "outputs": [],
      "source": []
    },
    {
      "cell_type": "code",
      "execution_count": null,
      "metadata": {},
      "outputs": [],
      "source": []
    },
    {
      "cell_type": "code",
      "execution_count": null,
      "metadata": {},
      "outputs": [],
      "source": []
    },
    {
      "cell_type": "code",
      "execution_count": null,
      "metadata": {},
      "outputs": [],
      "source": []
    },
    {
      "cell_type": "code",
      "execution_count": null,
      "metadata": {},
      "outputs": [],
      "source": []
    },
    {
      "cell_type": "code",
      "execution_count": null,
      "metadata": {},
      "outputs": [],
      "source": []
    },
    {
      "cell_type": "code",
      "execution_count": null,
      "metadata": {},
      "outputs": [],
      "source": []
    }
  ],
  "metadata": {
    "kernelspec": {
      "display_name": ".venv",
      "language": "python",
      "name": "python3"
    },
    "language_info": {
      "codemirror_mode": {
        "name": "ipython",
        "version": 3
      },
      "file_extension": ".py",
      "mimetype": "text/x-python",
      "name": "python",
      "nbconvert_exporter": "python",
      "pygments_lexer": "ipython3",
      "version": "3.11.11"
    }
  },
  "nbformat": 4,
  "nbformat_minor": 2
}
